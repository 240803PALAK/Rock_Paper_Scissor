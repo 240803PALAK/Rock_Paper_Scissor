{
 "cells": [
  {
   "cell_type": "code",
   "execution_count": 11,
   "id": "01baa12d-95cf-47e7-8e34-2491978de4a4",
   "metadata": {},
   "outputs": [
    {
     "name": "stdout",
     "output_type": "stream",
     "text": [
      "---------- Round 1 ----------\n",
      "\n"
     ]
    },
    {
     "name": "stdin",
     "output_type": "stream",
     "text": [
      "Enter your choice(Rock/Paper/Scissor):  paper\n"
     ]
    },
    {
     "name": "stdout",
     "output_type": "stream",
     "text": [
      "User : paper, System: rock\n",
      "\n",
      "---------- Round 2 ----------\n",
      "\n"
     ]
    },
    {
     "name": "stdin",
     "output_type": "stream",
     "text": [
      "Enter your choice(Rock/Paper/Scissor):  rock\n"
     ]
    },
    {
     "name": "stdout",
     "output_type": "stream",
     "text": [
      "User : rock, System: rock\n",
      "\n",
      "---------- Round 3 ----------\n",
      "\n"
     ]
    },
    {
     "name": "stdin",
     "output_type": "stream",
     "text": [
      "Enter your choice(Rock/Paper/Scissor):  rock\n"
     ]
    },
    {
     "name": "stdout",
     "output_type": "stream",
     "text": [
      "User : rock, System: rock\n",
      "\n",
      "---------- Round 4 ----------\n",
      "\n"
     ]
    },
    {
     "name": "stdin",
     "output_type": "stream",
     "text": [
      "Enter your choice(Rock/Paper/Scissor):  rock\n"
     ]
    },
    {
     "name": "stdout",
     "output_type": "stream",
     "text": [
      "User : rock, System: scissor\n",
      "\n",
      "---------- Round 5 ----------\n",
      "\n"
     ]
    },
    {
     "name": "stdin",
     "output_type": "stream",
     "text": [
      "Enter your choice(Rock/Paper/Scissor):  rock\n"
     ]
    },
    {
     "name": "stdout",
     "output_type": "stream",
     "text": [
      "User : rock, System: scissor\n",
      "\n",
      "-------------------------------------------------- You Won --------------------------------------------------\n"
     ]
    }
   ],
   "source": [
    "import random\n",
    "userpoint=0\n",
    "systempoint=0\n",
    "def system_choice():\n",
    "    option=['scissor','rock','paper']\n",
    "    choice=random.choice(option)\n",
    "    return choice\n",
    "def user_choice():\n",
    "    choice=input(\"Enter your choice(Rock/Paper/Scissor): \")\n",
    "    return choice\n",
    "def result(user,system):\n",
    "    global userpoint,systempoint\n",
    "    if (user=='scissor'and system=='paper')or(user=='rock' and system=='scissor') or (user=='paper'and system=='rock'):\n",
    "        userpoint+=1\n",
    "    elif (system=='scissor'and user=='paper')or(system=='rock' and user=='scissor') or (system=='paper'and user=='rock'):\n",
    "        systempoint+=1\n",
    "    else:\n",
    "        pass\n",
    "for i in range(1,6):\n",
    "    print(f\"---------- Round {i} ----------\\n\")\n",
    "    user=user_choice()\n",
    "    system=system_choice()\n",
    "    print(f\"User : {user}, System: {system}\\n\")\n",
    "    result(user,system)\n",
    "\n",
    "if userpoint<systempoint:\n",
    "    result=\"System Won\"\n",
    "elif userpoint==systempoint:\n",
    "    result=\"It's a tie\"\n",
    "else:\n",
    "    result=\"You Won\"\n",
    "print(f\"-------------------------------------------------- {result} --------------------------------------------------\")"
   ]
  },
  {
   "cell_type": "code",
   "execution_count": null,
   "id": "97b811bb-16e5-48fe-9c43-87ff459a4110",
   "metadata": {},
   "outputs": [],
   "source": []
  }
 ],
 "metadata": {
  "kernelspec": {
   "display_name": "Python 3 (ipykernel)",
   "language": "python",
   "name": "python3"
  },
  "language_info": {
   "codemirror_mode": {
    "name": "ipython",
    "version": 3
   },
   "file_extension": ".py",
   "mimetype": "text/x-python",
   "name": "python",
   "nbconvert_exporter": "python",
   "pygments_lexer": "ipython3",
   "version": "3.12.0"
  }
 },
 "nbformat": 4,
 "nbformat_minor": 5
}
